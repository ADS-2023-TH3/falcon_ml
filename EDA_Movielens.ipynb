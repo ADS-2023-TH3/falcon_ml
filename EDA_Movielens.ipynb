{
 "cells": [
  {
   "cell_type": "code",
   "execution_count": null,
   "metadata": {
    "executionInfo": {
     "elapsed": 891,
     "status": "ok",
     "timestamp": 1699356100366,
     "user": {
      "displayName": "Jaume Sánchez",
      "userId": "14403948448617905159"
     },
     "user_tz": -60
    },
    "id": "3TdfW-y7Rfed"
   },
   "outputs": [],
   "source": [
    "import pandas as pd\n",
    "import numpy as np\n"
   ]
  },
  {
   "cell_type": "code",
   "execution_count": null,
   "metadata": {
    "executionInfo": {
     "elapsed": 417,
     "status": "ok",
     "timestamp": 1699356100780,
     "user": {
      "displayName": "Jaume Sánchez",
      "userId": "14403948448617905159"
     },
     "user_tz": -60
    },
    "id": "wt0B0MyRRivQ"
   },
   "outputs": [],
   "source": [
    "df = pd.read_csv('/content/movies.csv', encoding = 'utf-8')"
   ]
  },
  {
   "cell_type": "code",
   "execution_count": null,
   "metadata": {
    "colab": {
     "base_uri": "https://localhost:8080/",
     "height": 423
    },
    "executionInfo": {
     "elapsed": 43,
     "status": "ok",
     "timestamp": 1699356100781,
     "user": {
      "displayName": "Jaume Sánchez",
      "userId": "14403948448617905159"
     },
     "user_tz": -60
    },
    "id": "a7zPZDUtSJXy",
    "outputId": "963154c1-2497-4d16-830b-2836aa79ae53"
   },
   "outputs": [],
   "source": [
    "df\n"
   ]
  },
  {
   "cell_type": "code",
   "execution_count": null,
   "metadata": {
    "colab": {
     "base_uri": "https://localhost:8080/",
     "height": 300
    },
    "executionInfo": {
     "elapsed": 40,
     "status": "ok",
     "timestamp": 1699356100781,
     "user": {
      "displayName": "Jaume Sánchez",
      "userId": "14403948448617905159"
     },
     "user_tz": -60
    },
    "id": "WfcfxJjNSKSN",
    "outputId": "d9e20c01-49f2-42c0-a73f-ab3c46cce97a"
   },
   "outputs": [],
   "source": [
    "df.describe()"
   ]
  },
  {
   "cell_type": "code",
   "execution_count": null,
   "metadata": {
    "colab": {
     "base_uri": "https://localhost:8080/"
    },
    "executionInfo": {
     "elapsed": 38,
     "status": "ok",
     "timestamp": 1699356100781,
     "user": {
      "displayName": "Jaume Sánchez",
      "userId": "14403948448617905159"
     },
     "user_tz": -60
    },
    "id": "pl6jQQdjSWit",
    "outputId": "9b51c9a2-f8d0-4537-cd2d-33611e44b929"
   },
   "outputs": [],
   "source": [
    "df.isna().sum()"
   ]
  },
  {
   "cell_type": "code",
   "execution_count": null,
   "metadata": {
    "colab": {
     "base_uri": "https://localhost:8080/"
    },
    "executionInfo": {
     "elapsed": 32,
     "status": "ok",
     "timestamp": 1699356100781,
     "user": {
      "displayName": "Jaume Sánchez",
      "userId": "14403948448617905159"
     },
     "user_tz": -60
    },
    "id": "pqNR2cF8SiH0",
    "outputId": "9ab79c2f-1990-4516-a301-25326b629d54"
   },
   "outputs": [],
   "source": [
    "df.nunique()"
   ]
  },
  {
   "cell_type": "code",
   "execution_count": null,
   "metadata": {
    "colab": {
     "base_uri": "https://localhost:8080/"
    },
    "executionInfo": {
     "elapsed": 28,
     "status": "ok",
     "timestamp": 1699356100781,
     "user": {
      "displayName": "Jaume Sánchez",
      "userId": "14403948448617905159"
     },
     "user_tz": -60
    },
    "id": "UN2R-UKoThtA",
    "outputId": "2e594caa-ecf3-474a-fb49-22075c8a4d43"
   },
   "outputs": [],
   "source": [
    "62423-62325"
   ]
  },
  {
   "cell_type": "code",
   "execution_count": null,
   "metadata": {
    "executionInfo": {
     "elapsed": 26,
     "status": "ok",
     "timestamp": 1699356100782,
     "user": {
      "displayName": "Jaume Sánchez",
      "userId": "14403948448617905159"
     },
     "user_tz": -60
    },
    "id": "IQC5kBxpSk7D"
   },
   "outputs": [],
   "source": [
    "not_unique = df[df['title'].duplicated(keep=False)]"
   ]
  },
  {
   "cell_type": "code",
   "execution_count": null,
   "metadata": {
    "colab": {
     "base_uri": "https://localhost:8080/"
    },
    "executionInfo": {
     "elapsed": 25,
     "status": "ok",
     "timestamp": 1699356100782,
     "user": {
      "displayName": "Jaume Sánchez",
      "userId": "14403948448617905159"
     },
     "user_tz": -60
    },
    "id": "muZLP2MBTdUW",
    "outputId": "334e1440-3dcb-459a-b74c-f337c830cb0d"
   },
   "outputs": [],
   "source": [
    "print(not_unique)"
   ]
  },
  {
   "cell_type": "code",
   "execution_count": null,
   "metadata": {
    "colab": {
     "base_uri": "https://localhost:8080/"
    },
    "executionInfo": {
     "elapsed": 21,
     "status": "ok",
     "timestamp": 1699356100782,
     "user": {
      "displayName": "Jaume Sánchez",
      "userId": "14403948448617905159"
     },
     "user_tz": -60
    },
    "id": "Oxog2gDeTezr",
    "outputId": "df0f7bad-fbaa-4d9f-9bf4-cd6e08edaaf0"
   },
   "outputs": [],
   "source": [
    "not_unique['title']"
   ]
  },
  {
   "cell_type": "code",
   "execution_count": null,
   "metadata": {
    "colab": {
     "base_uri": "https://localhost:8080/",
     "height": 112
    },
    "executionInfo": {
     "elapsed": 349,
     "status": "ok",
     "timestamp": 1699356101114,
     "user": {
      "displayName": "Jaume Sánchez",
      "userId": "14403948448617905159"
     },
     "user_tz": -60
    },
    "id": "EJYnyQpETv66",
    "outputId": "3f3cae4c-59ee-4a05-bc98-b916eda749cf"
   },
   "outputs": [],
   "source": [
    "df[df['title'] == 'Camino (2016)']"
   ]
  },
  {
   "cell_type": "code",
   "execution_count": null,
   "metadata": {
    "executionInfo": {
     "elapsed": 11391,
     "status": "ok",
     "timestamp": 1699356112496,
     "user": {
      "displayName": "Jaume Sánchez",
      "userId": "14403948448617905159"
     },
     "user_tz": -60
    },
    "id": "tfTG7PaPWAh5"
   },
   "outputs": [],
   "source": [
    "df1= pd.read_csv('/content/ratings.csv', encoding = 'utf-8')"
   ]
  },
  {
   "cell_type": "code",
   "execution_count": null,
   "metadata": {
    "colab": {
     "base_uri": "https://localhost:8080/",
     "height": 206
    },
    "executionInfo": {
     "elapsed": 50,
     "status": "ok",
     "timestamp": 1699356112497,
     "user": {
      "displayName": "Jaume Sánchez",
      "userId": "14403948448617905159"
     },
     "user_tz": -60
    },
    "id": "12XMJGPFScZZ",
    "outputId": "e2b146c3-4821-463a-b600-14f5a88135b7"
   },
   "outputs": [],
   "source": [
    "df1.head()"
   ]
  },
  {
   "cell_type": "code",
   "execution_count": null,
   "metadata": {
    "colab": {
     "base_uri": "https://localhost:8080/"
    },
    "executionInfo": {
     "elapsed": 46,
     "status": "ok",
     "timestamp": 1699356112498,
     "user": {
      "displayName": "Jaume Sánchez",
      "userId": "14403948448617905159"
     },
     "user_tz": -60
    },
    "id": "yiZD0-3dSjmH",
    "outputId": "0aeefe8c-8bdd-42b1-96ee-3ca1257695ea"
   },
   "outputs": [],
   "source": [
    "df1.isna().sum()"
   ]
  },
  {
   "cell_type": "code",
   "execution_count": null,
   "metadata": {
    "colab": {
     "base_uri": "https://localhost:8080/"
    },
    "executionInfo": {
     "elapsed": 6723,
     "status": "ok",
     "timestamp": 1699356119183,
     "user": {
      "displayName": "Jaume Sánchez",
      "userId": "14403948448617905159"
     },
     "user_tz": -60
    },
    "id": "bVh4qvLeSo20",
    "outputId": "59fec881-3aed-4af4-bbcb-b677cc6b8196"
   },
   "outputs": [],
   "source": [
    "df1.nunique()"
   ]
  },
  {
   "cell_type": "code",
   "execution_count": null,
   "metadata": {
    "colab": {
     "base_uri": "https://localhost:8080/",
     "height": 423
    },
    "executionInfo": {
     "elapsed": 15,
     "status": "ok",
     "timestamp": 1699356119183,
     "user": {
      "displayName": "Jaume Sánchez",
      "userId": "14403948448617905159"
     },
     "user_tz": -60
    },
    "id": "k-4IlhmzStFF",
    "outputId": "b8bca297-5e5a-4747-bc1d-98f3f99afd1e"
   },
   "outputs": [],
   "source": [
    "df1"
   ]
  },
  {
   "cell_type": "code",
   "execution_count": null,
   "metadata": {
    "executionInfo": {
     "elapsed": 973,
     "status": "ok",
     "timestamp": 1699356120144,
     "user": {
      "displayName": "Jaume Sánchez",
      "userId": "14403948448617905159"
     },
     "user_tz": -60
    },
    "id": "RIgeVIhoT6Lb"
   },
   "outputs": [],
   "source": [
    "df2 = pd.read_csv('/content/tags.csv', encoding = 'utf-8')\n"
   ]
  },
  {
   "cell_type": "code",
   "execution_count": null,
   "metadata": {
    "colab": {
     "base_uri": "https://localhost:8080/",
     "height": 423
    },
    "executionInfo": {
     "elapsed": 16,
     "status": "ok",
     "timestamp": 1699356120145,
     "user": {
      "displayName": "Jaume Sánchez",
      "userId": "14403948448617905159"
     },
     "user_tz": -60
    },
    "id": "5QYMmN0fUb8f",
    "outputId": "053ec39a-e6a1-4245-80d0-5d3e9310edff"
   },
   "outputs": [],
   "source": [
    "df2\n"
   ]
  },
  {
   "cell_type": "code",
   "execution_count": null,
   "metadata": {
    "colab": {
     "base_uri": "https://localhost:8080/"
    },
    "executionInfo": {
     "elapsed": 14,
     "status": "ok",
     "timestamp": 1699356120146,
     "user": {
      "displayName": "Jaume Sánchez",
      "userId": "14403948448617905159"
     },
     "user_tz": -60
    },
    "id": "MwMhlWYzUcr1",
    "outputId": "67a2f785-69a7-440e-a420-9a1fb08d7845"
   },
   "outputs": [],
   "source": [
    "df2.nunique()"
   ]
  },
  {
   "cell_type": "code",
   "execution_count": null,
   "metadata": {
    "colab": {
     "base_uri": "https://localhost:8080/"
    },
    "executionInfo": {
     "elapsed": 511,
     "status": "ok",
     "timestamp": 1699356120647,
     "user": {
      "displayName": "Jaume Sánchez",
      "userId": "14403948448617905159"
     },
     "user_tz": -60
    },
    "id": "ud2XMquQUnrJ",
    "outputId": "96ff02b4-a92b-436b-d4b7-9b8a1a11474a"
   },
   "outputs": [],
   "source": [
    "df2.isna().sum()"
   ]
  },
  {
   "cell_type": "code",
   "execution_count": null,
   "metadata": {
    "colab": {
     "base_uri": "https://localhost:8080/",
     "height": 551
    },
    "executionInfo": {
     "elapsed": 12,
     "status": "ok",
     "timestamp": 1699356120648,
     "user": {
      "displayName": "Jaume Sánchez",
      "userId": "14403948448617905159"
     },
     "user_tz": -60
    },
    "id": "NNNE1Hs8Uq1q",
    "outputId": "7053a4fc-386b-43e1-cfbd-54c01a2c5b5d"
   },
   "outputs": [],
   "source": [
    "df2[df2['tag'].isna()]"
   ]
  },
  {
   "cell_type": "code",
   "execution_count": null,
   "metadata": {
    "executionInfo": {
     "elapsed": 4953,
     "status": "ok",
     "timestamp": 1699356125591,
     "user": {
      "displayName": "Jaume Sánchez",
      "userId": "14403948448617905159"
     },
     "user_tz": -60
    },
    "id": "vtoeV9NEU8p-"
   },
   "outputs": [],
   "source": [
    "merged_df = df.merge(df1, on='movieId', how='inner')"
   ]
  },
  {
   "cell_type": "code",
   "execution_count": null,
   "metadata": {
    "colab": {
     "base_uri": "https://localhost:8080/",
     "height": 423
    },
    "executionInfo": {
     "elapsed": 35,
     "status": "ok",
     "timestamp": 1699356125592,
     "user": {
      "displayName": "Jaume Sánchez",
      "userId": "14403948448617905159"
     },
     "user_tz": -60
    },
    "id": "L1I6ZntAf9c4",
    "outputId": "d3372ba1-1a84-4224-85d1-9d92a19be57a"
   },
   "outputs": [],
   "source": [
    "merged_df"
   ]
  },
  {
   "cell_type": "code",
   "execution_count": null,
   "metadata": {
    "id": "Q6Yiqwz-gmey"
   },
   "outputs": [],
   "source": [
    "final_merge = merged_df.merge(df2,on='movieId', how='inner')"
   ]
  },
  {
   "cell_type": "code",
   "execution_count": null,
   "metadata": {
    "id": "PGjN9JZjg0Lf"
   },
   "outputs": [],
   "source": []
  }
 ],
 "metadata": {
  "colab": {
   "authorship_tag": "ABX9TyMshDPymyrX2JyGC2eUSlei",
   "provenance": []
  },
  "kernelspec": {
   "display_name": "Python 3",
   "name": "python3"
  },
  "language_info": {
   "name": "python"
  }
 },
 "nbformat": 4,
 "nbformat_minor": 0
}
